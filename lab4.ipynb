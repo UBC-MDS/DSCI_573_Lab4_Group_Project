{
 "cells": [
  {
   "cell_type": "code",
   "execution_count": null,
   "metadata": {
    "deletable": false,
    "editable": false
   },
   "outputs": [],
   "source": [
    "# Initialize Otter\n",
    "import otter\n",
    "grader = otter.Notebook(\"lab4.ipynb\")"
   ]
  },
  {
   "cell_type": "code",
   "execution_count": null,
   "metadata": {},
   "outputs": [],
   "source": [
    "# Imports\n",
    "\n",
    "# Base\n",
    "import pandas as pd\n",
    "import numpy as np\n",
    "import altair as alt\n",
    "\n",
    "# Core\n",
    "from sklearn.model_selection import (\n",
    "    GridSearchCV,\n",
    "    RandomizedSearchCV,\n",
    "    cross_validate,\n",
    "    train_test_split,\n",
    ")\n",
    "\n",
    "# Processing / Transformation\n",
    "from sklearn.preprocessing import StandardScaler\n",
    "from sklearn.compose import ColumnTransformer, make_column_transformer\n",
    "from sklearn.pipeline import Pipeline, make_pipeline\n",
    "\n",
    "# Classifiers\n",
    "from sklearn.dummy import DummyClassifier\n",
    "from sklearn.linear_model import LogisticRegression, LogisticRegressionCV\n",
    "from sklearn.svm import SVC\n",
    "from sklearn.ensemble import RandomForestClassifier\n",
    "from lightgbm.sklearn import LGBMClassifier\n",
    "\n",
    "# Metrics\n",
    "from sklearn.metrics import (\n",
    "    confusion_matrix,\n",
    "    classification_report,\n",
    "    precision_recall_curve,\n",
    "    f1_score,\n",
    "    precision_score,\n",
    "    recall_score,\n",
    "    accuracy_score,\n",
    "    make_scorer,\n",
    "    mean_squared_error,\n",
    "    r2_score\n",
    ")\n"
   ]
  },
  {
   "cell_type": "markdown",
   "metadata": {},
   "source": [
    "# Lab 4: Putting it all together in a mini project\n",
    "\n",
    "**This lab is an optional group lab.** You can choose to work alone of in a group of up to four students. You are in charge of how you want to work and who you want to work with. Maybe you really want to go through all the steps of the ML process yourself or maybe you want to practice your collaboration skills, it is up to you! Just remember to indicate who your group members are (if any) when you submit on Gradescope. If you choose to work in a group, you only need to use one of your GitHub repos."
   ]
  },
  {
   "cell_type": "markdown",
   "metadata": {},
   "source": [
    "<!-- BEGIN QUESTION -->\n",
    "\n",
    "<div class=\"alert alert-info\">\n",
    "\n",
    "## Submission instructions\n",
    "rubric={mechanics}\n",
    "\n",
    "<p>You receive marks for submitting your lab correctly, please follow these instructions:</p>\n",
    "\n",
    "<ul>\n",
    "  <li><a href=\"https://ubc-mds.github.io/resources_pages/general_lab_instructions/\">\n",
    "      Follow the general lab instructions.</a></li>\n",
    "  <li><a href=\"https://github.com/UBC-MDS/public/tree/master/rubric\">\n",
    "      Click here to view a description of the rubrics used to grade the questions</a></li>\n",
    "  <li>Make at least three commits.</li>\n",
    "  <li>Push your <code>.ipynb</code> file to your GitHub repository for this lab and upload it to Gradescope.</li>\n",
    "    <ul>\n",
    "      <li>Before submitting, make sure you restart the kernel and rerun all cells.</li>\n",
    "    </ul>\n",
    "  <li>Also upload a <code>.pdf</code> export of the notebook to facilitate grading of manual questions (preferably WebPDF, you can select two files when uploading to gradescope)</li>\n",
    "  <li>Don't change any variable names that are given to you, don't move cells around, and don't include any code to install packages in the notebook.</li>\n",
    "  <li>The data you download for this lab <b>SHOULD NOT BE PUSHED TO YOUR REPOSITORY</b> (there is also a <code>.gitignore</code> in the repo to prevent this).</li>\n",
    "  <li>Include a clickable link to your GitHub repo for the lab just below this cell\n",
    "    <ul>\n",
    "      <li>It should look something like this https://github.ubc.ca/MDS-2020-21/DSCI_531_labX_yourcwl.</li>\n",
    "    </ul>\n",
    "  </li>\n",
    "</ul>\n",
    "</div>\n",
    "\n",
    "_Points:_ 2"
   ]
  },
  {
   "cell_type": "markdown",
   "metadata": {},
   "source": [
    "https://github.com/xFiveRivers/DSCI_573_Lab4_Group_Project"
   ]
  },
  {
   "cell_type": "markdown",
   "metadata": {},
   "source": [
    "<!-- END QUESTION -->\n",
    "\n",
    "## Introduction <a name=\"in\"></a>\n",
    "\n",
    "In this lab you will be working on an open-ended mini-project, where you will put all the different things you have learned so far in 571 and 573 together to solve an interesting problem.\n",
    "\n",
    "A few notes and tips when you work on this mini-project: \n",
    "\n",
    "#### Tips\n",
    "1. Since this mini-project is open-ended there might be some situations where you'll have to use your own judgment and make your own decisions (as you would be doing when you work as a data scientist). Make sure you explain your decisions whenever necessary. \n",
    "2. **Do not include everything you ever tried in your submission** -- it's fine just to have your final code. That said, your code should be reproducible and well-documented. For example, if you chose your hyperparameters based on some hyperparameter optimization experiment, you should leave in the code for that experiment so that someone else could re-run it and obtain the same hyperparameters, rather than mysteriously just setting the hyperparameters to some (carefully chosen) values in your code. \n",
    "3. If you realize that you are repeating a lot of code try to organize it in functions. Clear presentation of your code, experiments, and results is the key to be successful in this lab. You may use code from lecture notes or previous lab solutions with appropriate attributions. \n",
    "\n",
    "#### Assessment\n",
    "We don't have some secret target score that you need to achieve to get a good grade. **You'll be assessed on demonstration of mastery of course topics, clear presentation, and the quality of your analysis and results.** For example, if you just have a bunch of code and no text or figures, that's not good. If you instead do a bunch of sane things and you have clearly motivated your choices, but still get lower model performance than your friend, don't sweat it.\n",
    "\n",
    "\n",
    "#### A final note\n",
    "Finally, the style of this \"project\" question is different from other assignments. It'll be up to you to decide when you're \"done\" -- in fact, this is one of the hardest parts of real projects. But please don't spend WAY too much time on this... perhaps \"several hours\" but not \"many hours\" is a good guideline for a high quality submission. Of course if you're having fun you're welcome to spend as much time as you want! But, if so, try not to do it out of perfectionism or getting the best possible grade. Do it because you're learning and enjoying it. Students from the past cohorts have found such kind of labs useful and fun and we hope you enjoy it as well. "
   ]
  },
  {
   "cell_type": "markdown",
   "metadata": {},
   "source": [
    "<!-- BEGIN QUESTION -->\n",
    "\n",
    "<div class=\"alert alert-info\">\n",
    "\n",
    "## 1. Pick your problem and explain the prediction problem <a name=\"1\"></a>\n",
    "rubric={reasoning}\n",
    "\n",
    "In this mini project, you will pick one of the following problems: \n",
    "\n",
    "1. A classification problem of predicting whether a credit card client will default or not. For this problem, you will use [Default of Credit Card Clients Dataset](https://www.kaggle.com/uciml/default-of-credit-card-clients-dataset). In this data set, there are 30,000 examples and 24 features, and the goal is to estimate whether a person will default (fail to pay) their credit card bills; this column is labeled \"default.payment.next.month\" in the data. The rest of the columns can be used as features. You may take some ideas and compare your results with [the associated research paper](https://www.sciencedirect.com/science/article/pii/S0957417407006719), which is available through [the UBC library](https://www.library.ubc.ca/). \n",
    "\n",
    "OR \n",
    "\n",
    "2. A regression problem of predicting `reviews_per_month`, as a proxy for the popularity of the listing with [New York City Airbnb listings from 2019 dataset](https://www.kaggle.com/dgomonov/new-york-city-airbnb-open-data). Airbnb could use this sort of model to predict how popular future listings might be before they are posted, perhaps to help guide hosts create more appealing listings. In reality they might instead use something like vacancy rate or average rating as their target, but we do not have that available here.\n",
    "\n",
    "**Your tasks:**\n",
    "\n",
    "1. Spend some time understanding the problem and what each feature means. Write a few sentences on your initial thoughts on the problem and the dataset. \n",
    "2. Download the dataset and read it as a pandas dataframe. \n",
    "3. Carry out any preliminary preprocessing, if needed (e.g., changing feature names, handling of NaN values etc.)\n",
    "    \n",
    "</div>\n",
    "\n",
    "_Points:_ 3"
   ]
  },
  {
   "cell_type": "markdown",
   "metadata": {},
   "source": [
    "**For this lab, a solution will be developed for problem #1.** \n",
    "\n",
    "Looking into the data set there are many features initially proposed of which many are relevant to the machine-learning model building process. Features like `ID` and `SEX` as the former contains all unique identifiers for each observation while the latter will introduce an ethical bias into the experiement. The observations that relate to `others` and `unknown` under the `EDUCATION` column will be dropped to only keep `graduate school`, `university`, and `high school` as they have an inherent order. The columns names for the `PAY`, `BILL_AMT`, and `PAY_AMT` features are hard to interpret so they will be renamed to include their respective months. The `default.payment.next.month` column will also be renamed to `TARGET` to keep it short. Under the `MARRIED` column, any values pertaining to `single` or `other` will be converted to `not-married` for simplicity as it is not clear what `other` means, this also helps to create a binary feature. The features that are categorical already have some form of encoding which helps the transformation process down the line for interpretability."
   ]
  },
  {
   "cell_type": "code",
   "execution_count": null,
   "metadata": {
    "tags": []
   },
   "outputs": [],
   "source": [
    "# Read in the csv data\n",
    "raw_data = pd.read_csv(\"data/UCI_Credit_Card.csv\")\n",
    "\n",
    "# Drop ID and SEX columns\n",
    "raw_data = raw_data.drop(columns = [\"ID\", \"SEX\"])\n",
    "\n",
    "# Rename columns for clarity\n",
    "raw_data = raw_data.rename(columns={\n",
    "    \"PAY_0\": \"PAY_SEPT\",\n",
    "    \"PAY_2\": \"PAY_AUG\",\n",
    "    \"PAY_3\": \"PAY_JUL\",\n",
    "    \"PAY_4\": \"PAY_JUN\",\n",
    "    \"PAY_5\": \"PAY_MAY\",\n",
    "    \"PAY_6\": \"PAY_APR\",\n",
    "    \"BILL_AMT1\": \"BILL_AMT_SEPT\",\n",
    "    \"BILL_AMT2\": \"BILL_AMT_AUG\",\n",
    "    \"BILL_AMT3\": \"BILL_AMT_JUL\",\n",
    "    \"BILL_AMT4\": \"BILL_AMT_JUN\",\n",
    "    \"BILL_AMT5\": \"BILL_AMT_MAY\",\n",
    "    \"BILL_AMT6\": \"BILL_AMT_APR\",\n",
    "    \"PAY_AMT1\": \"PAY_AMT_SEPT\",\n",
    "    \"PAY_AMT2\": \"PAY_AMT_AUG\",\n",
    "    \"PAY_AMT3\": \"PAY_AMT_JUL\",\n",
    "    \"PAY_AMT4\": \"PAY_AMT_JUN\",\n",
    "    \"PAY_AMT5\": \"PAY_AMT_MAY\",\n",
    "    \"PAY_AMT6\": \"PAY_AMT_APR\",\n",
    "    \"default.payment.next.month\" : \"TARGET\"\n",
    "})\n",
    "\n",
    "# Remove observations where EDUCATION is other (4) or unknown(5 and 6)\n",
    "raw_data = raw_data[raw_data.EDUCATION != 4]\n",
    "raw_data = raw_data[raw_data.EDUCATION != 5]\n",
    "raw_data = raw_data[raw_data.EDUCATION != 6]\n",
    "\n",
    "# Mutate all values where MARRIAGE is either single (2) or other (3) into not-married (0)\n",
    "raw_data.loc[raw_data[\"MARRIAGE\"] == 2, \"MARRIAGE\"] = 0\n",
    "raw_data.loc[raw_data[\"MARRIAGE\"] == 3, \"MARRIAGE\"] = 0\n",
    "\n",
    "raw_data"
   ]
  },
  {
   "cell_type": "markdown",
   "metadata": {},
   "source": [
    "<!-- END QUESTION -->\n",
    "\n",
    "<!-- BEGIN QUESTION -->\n",
    "\n",
    "<div class=\"alert alert-info\">\n",
    "\n",
    "## 2. Data splitting <a name=\"2\"></a>\n",
    "rubric={reasoning}\n",
    "\n",
    "**Your tasks:**\n",
    "\n",
    "1. Split the data into train and test portions.\n",
    "\n",
    "> Make the decision on the `test_size` based on the capacity of your laptop. \n",
    "    \n",
    "</div>\n",
    "\n",
    "_Points:_ 1"
   ]
  },
  {
   "cell_type": "code",
   "execution_count": null,
   "metadata": {
    "tags": []
   },
   "outputs": [],
   "source": [
    "train_df, test_df = train_test_split(raw_data, test_size=0.3, random_state=123)\n",
    "\n",
    "X_train = train_df.drop(columns = \"TARGET\")\n",
    "y_train = train_df[\"TARGET\"]\n",
    "\n",
    "X_test = test_df.drop(columns = \"TARGET\")\n",
    "y_test = test_df[\"TARGET\"]"
   ]
  },
  {
   "cell_type": "markdown",
   "metadata": {},
   "source": [
    "<!-- END QUESTION -->\n",
    "\n",
    "<!-- BEGIN QUESTION -->\n",
    "\n",
    "<div class=\"alert alert-info\">\n",
    "\n",
    "## 3. EDA <a name=\"3\"></a>\n",
    "rubric={viz,reasoning}\n",
    "    \n",
    "Perform exploratory data analysis on the train set.\n",
    "\n",
    "**Your tasks:**\n",
    "\n",
    "1. Include at least two summary statistics and two visualizations that you find useful, and accompany each one with a sentence explaining it.\n",
    "2. Summarize your initial observations about the data. \n",
    "3. Pick appropriate metric/metrics for assessment. \n",
    "    \n",
    "</div>\n",
    "\n",
    "_Points:_ 6"
   ]
  },
  {
   "attachments": {},
   "cell_type": "markdown",
   "metadata": {},
   "source": [
    "Part 1/2 - see plots and descriptoins below\n",
    "\n",
    "Part 3:\n",
    "\n",
    "We have decided to use a f1 scoring metric to balance recall and percision as we want to balance our type 1 and 2 error. \n",
    "Percision is important, as false positive could impact individuals and how much they are lent. \n",
    "Recall is important, as the credit card company wants to ensure they are able to identify all positive cases (TPR)."
   ]
  },
  {
   "cell_type": "code",
   "execution_count": null,
   "metadata": {},
   "outputs": [],
   "source": [
    "# Save a vega-lite spec and a PNG blob for each plot in the notebook\n",
    "alt.renderers.enable('mimetype')\n",
    "# Handle large data sets without embedding them in the notebook\n",
    "alt.data_transformers.enable('data_server')"
   ]
  },
  {
   "cell_type": "code",
   "execution_count": null,
   "metadata": {},
   "outputs": [],
   "source": [
    "train_df.info()"
   ]
  },
  {
   "cell_type": "code",
   "execution_count": null,
   "metadata": {},
   "outputs": [],
   "source": [
    "train_df.describe()"
   ]
  },
  {
   "cell_type": "code",
   "execution_count": null,
   "metadata": {},
   "outputs": [],
   "source": [
    "alt.Chart(train_df).mark_bar().encode(\n",
    "     x=alt.X(\"LIMIT_BAL\", type='quantitative', bin=alt.Bin(step=10_000), scale=alt.Scale(domain=[0, 600_000], clamp=True)),\n",
    "     y='count()',\n",
    "     tooltip=alt.Tooltip(['count()'], bin=\"binned\")\n",
    ").properties(\n",
    "    width=600,\n",
    "    height=400,\n",
    ")"
   ]
  },
  {
   "cell_type": "code",
   "execution_count": null,
   "metadata": {},
   "outputs": [],
   "source": [
    "alt.Chart(train_df).mark_bar().encode(\n",
    "     x=alt.X(\"LIMIT_BAL\", type='quantitative', bin=alt.Bin(maxbins=10), scale=alt.Scale(domain=[0, 600_000], clamp=True)),\n",
    "     y='count()',\n",
    "     tooltip=alt.Tooltip(['count()'], bin=\"binned\")\n",
    ").properties(\n",
    "    width=600,\n",
    "    height=400,\n",
    ")"
   ]
  },
  {
   "attachments": {},
   "cell_type": "markdown",
   "metadata": {},
   "source": [
    "We can see that `LIMIT_BAL` is right skewed with the most number of individuals having a balance limit of less than `200 000`"
   ]
  },
  {
   "cell_type": "code",
   "execution_count": null,
   "metadata": {},
   "outputs": [],
   "source": [
    "categorical_cols = ['EDUCATION', 'MARRIAGE', 'TARGET']\n",
    "\n",
    "alt.Chart(train_df).mark_bar().encode(\n",
    "     x=alt.X(alt.repeat(\"row\"), type='ordinal', scale=alt.Scale(domainMax=250_000, clamp=True)),\n",
    "     y='count()',\n",
    ").properties(\n",
    "    width=300,\n",
    "    height=200,\n",
    ").repeat(\n",
    "    row = categorical_cols\n",
    ")"
   ]
  },
  {
   "attachments": {},
   "cell_type": "markdown",
   "metadata": {},
   "source": [
    "We can see that on `MARRIAGE` the dataset is approxiatly balanced. \n",
    "\n",
    "On `EDUCATION` we see that the data is unbalanced with most individuals having a univeristy degree (2) followed by graduate degree (1) with the fewest having only a highschool diploma.\n",
    "\n",
    "On our `TARGET` class, \"default.payment.next.month\" we see the data is skewed with more examples of people not defaulting. "
   ]
  },
  {
   "cell_type": "code",
   "execution_count": null,
   "metadata": {},
   "outputs": [],
   "source": [
    "bar = alt.Chart(train_df).mark_bar().encode(\n",
    "    x=alt.X(\"AGE\", bin=alt.Bin(step=2)),\n",
    "    y='count()'\n",
    ")\n",
    "\n",
    "rule = alt.Chart(train_df).mark_rule(color='red').encode(\n",
    "    x='mean(AGE):Q'\n",
    ")\n",
    "\n",
    "text = rule.mark_text(\n",
    "    align='left',\n",
    "    baseline='middle',\n",
    "    dy = -100,\n",
    "    dx=3  # Nudges text to right so it doesn't appear on top of the bar\n",
    ").encode(\n",
    "    text='mean(AGE)'\n",
    ")\n",
    "\n",
    "(bar + rule + text).properties(width=600)"
   ]
  },
  {
   "cell_type": "markdown",
   "metadata": {},
   "source": [
    "We see the mean age of the dataset is 35.4 and is right skewed. "
   ]
  },
  {
   "cell_type": "code",
   "execution_count": null,
   "metadata": {},
   "outputs": [],
   "source": [
    "pay_rows = ['PAY_SEPT', 'PAY_AUG',\n",
    "       'PAY_JUL', 'PAY_JUN', 'PAY_MAY', 'PAY_APR']\n",
    "\n",
    "alt.Chart(train_df).mark_bar().encode(\n",
    "     x=alt.X(alt.repeat(\"row\"), type='quantitative'),\n",
    "     y='count()',\n",
    ").properties(\n",
    "    width=300,\n",
    "    height=200,\n",
    ").repeat(\n",
    "    row = pay_rows\n",
    ")"
   ]
  },
  {
   "attachments": {},
   "cell_type": "markdown",
   "metadata": {},
   "source": [
    "We can see that on `PAY` most observations are 0 (minimum payment met), then -1 (paid fully), -2 (no balance to pay)"
   ]
  },
  {
   "cell_type": "code",
   "execution_count": null,
   "metadata": {},
   "outputs": [],
   "source": [
    "bill_amt_rows = ['BILL_AMT_SEPT', 'BILL_AMT_AUG', 'BILL_AMT_JUL',\n",
    "                'BILL_AMT_JUN', 'BILL_AMT_MAY', 'BILL_AMT_APR',]\n",
    "\n",
    "alt.Chart(train_df).mark_bar().encode(\n",
    "     x=alt.X(alt.repeat(\"row\"), type='quantitative', bin=alt.Bin(step=10_000), scale=alt.Scale(domain=[0, 250_000], clamp=True)),\n",
    "     y='count()',\n",
    ").properties(\n",
    "    width=300,\n",
    "    height=200,\n",
    ").repeat(\n",
    "    row = bill_amt_rows\n",
    ")"
   ]
  },
  {
   "cell_type": "code",
   "execution_count": null,
   "metadata": {
    "tags": []
   },
   "outputs": [],
   "source": [
    "pay_amt_rows = ['PAY_AMT_SEPT', 'PAY_AMT_AUG', 'PAY_AMT_JUL',\n",
    "                'PAY_AMT_JUN', 'PAY_AMT_MAY', 'PAY_AMT_APR']\n",
    "\n",
    "alt.Chart(train_df).mark_bar().encode(\n",
    "     x=alt.X(alt.repeat(\"row\"), type='quantitative', bin=alt.Bin(step=10_000), scale=alt.Scale(domainMax=250_000, clamp=True)),\n",
    "     y='count()'\n",
    ").properties(\n",
    "    width=300,\n",
    "    height=200,\n",
    ").repeat(\n",
    "    row = pay_amt_rows\n",
    ")"
   ]
  },
  {
   "attachments": {},
   "cell_type": "markdown",
   "metadata": {},
   "source": [
    "Similarly, `BILL_AMT` and `PAY_AMT` are right skewed. We have set the domain to be clamped at 250,000 for `BILL_AMT` and `PAY_AMT` as there are very few `BILL_AMT` counts above this values. Interestingly, it seems the median `BILL_AMT` is higher than the median `PAY_AMT` since we see that nearly all counts of `PAY_AMT` is in the 0-10,000 bin, where as `BILL_AMT` is more distributed within higher bins. "
   ]
  },
  {
   "cell_type": "code",
   "execution_count": null,
   "metadata": {},
   "outputs": [],
   "source": [
    "traind_df_corr = train_df.corr('spearman')\n",
    "#traind_df_corr = abs(traind_df_corr)\n",
    "traind_df_corr.style.background_gradient()"
   ]
  },
  {
   "attachments": {},
   "cell_type": "markdown",
   "metadata": {},
   "source": [
    "We see a relativly high correlation between varying months of `PAY`, `BILL_AMT`, and `PAY_AMT`. This could be explained as the values for the current month will likely be similar to the prior month. Ie, the amount an individual spends (Bill amount) will be similar to the amount they spent the prior month.\n",
    "\n",
    "We can see there is high correlation between `PAY_AMT` and `BILL_AMT`. The highest corelation being between `PAY_AMT` and the prior `BILL_AMT` as the `PAY_AMT_SEPT` would be the payment for `BILL_AMT_AUG`. Furthmore, it makes sense that if the `BILL_AMT` and `PAY_AMT` are correlated month to month, they would also be correlated to each other between months to varying degrees.  \n",
    "\n",
    "We would expect most often an individual will pay their bill in full, or as much as possible, and that these bills and payments are relatively consistent month to month. \n",
    "\n",
    "We also notice that `AGE` and `MARRIAGE` are highly correlated. \n",
    "\n",
    "We see that the Target class is most significantly correlated with `PAY` values then `PAY_AMT`. As the probability of deliquency would be most strongly related to how far behind an individual is on their payments and inversely correlated with how much they pay towards their balance. \n",
    "\n"
   ]
  },
  {
   "cell_type": "markdown",
   "metadata": {},
   "source": [
    "<!-- END QUESTION -->\n",
    "\n",
    "<!-- BEGIN QUESTION -->\n",
    "\n",
    "<div class=\"alert alert-warning\">\n",
    "\n",
    "## 4. Feature engineering (Challenging)\n",
    "rubric={reasoning}\n",
    "\n",
    "**Your tasks:**\n",
    "\n",
    "1. Carry out feature engineering. In other words, extract new features relevant for the problem and work with your new feature set in the following exercises. You may have to go back and forth between feature engineering and preprocessing.\n",
    "    \n",
    "</div>\n",
    "\n",
    "_Points:_ 0.5"
   ]
  },
  {
   "cell_type": "code",
   "execution_count": null,
   "metadata": {
    "tags": []
   },
   "outputs": [],
   "source": [
    "..."
   ]
  },
  {
   "cell_type": "markdown",
   "metadata": {},
   "source": [
    "<!-- END QUESTION -->\n",
    "\n",
    "<!-- BEGIN QUESTION -->\n",
    "\n",
    "<div class=\"alert alert-info\">\n",
    "\n",
    "## 5. Preprocessing and transformations <a name=\"5\"></a>\n",
    "rubric={accuracy,reasoning}\n",
    "\n",
    "**Your tasks:**\n",
    "\n",
    "1. Identify different feature types and the transformations you would apply on each feature type. \n",
    "2. Define a column transformer, if necessary. \n",
    "    \n",
    "</div>\n",
    "\n",
    "_Points:_ 4"
   ]
  },
  {
   "cell_type": "markdown",
   "metadata": {},
   "source": [
    "All numeric feature just need to be simply scaled and the remaining features can be passed through as they are already encoded appropriately."
   ]
  },
  {
   "cell_type": "code",
   "execution_count": null,
   "metadata": {
    "tags": []
   },
   "outputs": [],
   "source": [
    "numeric_features = [\n",
    "    \"LIMIT_BAL\",\n",
    "    \"AGE\",\n",
    "    \"BILL_AMT_SEPT\",\n",
    "    \"BILL_AMT_AUG\",\n",
    "    \"BILL_AMT_JUL\",\n",
    "    \"BILL_AMT_JUN\",\n",
    "    \"BILL_AMT_MAY\",\n",
    "    \"BILL_AMT_APR\",\n",
    "    \"PAY_AMT_SEPT\",\n",
    "    \"PAY_AMT_AUG\",\n",
    "    \"PAY_AMT_JUL\",\n",
    "    \"PAY_AMT_JUN\",\n",
    "    \"PAY_AMT_MAY\",\n",
    "    \"PAY_AMT_APR\"\n",
    "]\n",
    "\n",
    "pass_thru_features = [\n",
    "    \"EDUCATION\",\n",
    "    \"MARRIAGE\",\n",
    "    \"PAY_SEPT\",\n",
    "    \"PAY_AUG\",\n",
    "    \"PAY_JUL\",\n",
    "    \"PAY_JUN\",\n",
    "    \"PAY_MAY\",\n",
    "    \"PAY_APR\",\n",
    "]\n",
    "\n",
    "preprocessor = make_column_transformer(\n",
    "    (StandardScaler(), numeric_features),\n",
    "    remainder='passthrough'\n",
    ")"
   ]
  },
  {
   "cell_type": "markdown",
   "metadata": {},
   "source": [
    "<!-- END QUESTION -->\n",
    "\n",
    "<!-- BEGIN QUESTION -->\n",
    "\n",
    "<div class=\"alert alert-info\">\n",
    "\n",
    "## 6. Baseline model <a name=\"6\"></a>\n",
    "rubric={accuracy}\n",
    "\n",
    "**Your tasks:**\n",
    "1. Train a baseline model for your task and report its performance.\n",
    "    \n",
    "</div>\n",
    "\n",
    "_Points:_ 2"
   ]
  },
  {
   "cell_type": "code",
   "execution_count": null,
   "metadata": {},
   "outputs": [],
   "source": [
    "cross_val_results = {}\n",
    "scoring_list = [\n",
    "    \"accuracy\",\n",
    "    \"f1\",\n",
    "    \"recall\",\n",
    "    \"precision\",\n",
    "]"
   ]
  },
  {
   "cell_type": "code",
   "execution_count": null,
   "metadata": {
    "tags": []
   },
   "outputs": [],
   "source": [
    "%%capture --no-display\n",
    "\n",
    "# The dummy model\n",
    "dc = make_pipeline(preprocessor, DummyClassifier())\n",
    "\n",
    "# The mean and std of the cross validated scores for all metrics as a dataframe\n",
    "cross_val_results['dummy'] = pd.DataFrame(cross_validate(dc, X_train, y_train, return_train_score=True, scoring=scoring_list)).agg(['mean', 'std']).round(3).T\n",
    "\n",
    "# Show the train and validation scores\n",
    "cross_val_results['dummy']"
   ]
  },
  {
   "cell_type": "markdown",
   "metadata": {},
   "source": [
    "<!-- END QUESTION -->\n",
    "\n",
    "<!-- BEGIN QUESTION -->\n",
    "\n",
    "<div class=\"alert alert-info\">\n",
    "\n",
    "## 7. Linear models <a name=\"7\"></a>\n",
    "rubric={accuracy,reasoning}\n",
    "\n",
    "**Your tasks:**\n",
    "\n",
    "1. Try a linear model as a first real attempt. \n",
    "2. Carry out hyperparameter tuning to explore different values for the regularization hyperparameter. \n",
    "3. Report cross-validation scores along with standard deviation. \n",
    "4. Summarize your results.\n",
    "    \n",
    "</div>\n",
    "\n",
    "_Points:_ 8"
   ]
  },
  {
   "attachments": {},
   "cell_type": "markdown",
   "metadata": {},
   "source": [
    "We can see that a `LogisticRegression` model acheives a CV test f1 score of 0.476 (std 0.005) with the optimized parameters of `C = 0.017378008287491843` and `class_weight = 'balanced'`"
   ]
  },
  {
   "cell_type": "code",
   "execution_count": null,
   "metadata": {
    "tags": []
   },
   "outputs": [],
   "source": [
    "# The ridge model pipeline\n",
    "lr = make_pipeline(preprocessor, LogisticRegression())\n",
    "\n",
    "cross_val_results['LogisticRegression'] = pd.DataFrame(cross_validate(lr, X_train, y_train, return_train_score=True, scoring=scoring_list, n_jobs=-1)).agg(['mean', 'std']).round(3).T\n",
    "\n",
    "cross_val_results['LogisticRegression']"
   ]
  },
  {
   "cell_type": "code",
   "execution_count": null,
   "metadata": {},
   "outputs": [],
   "source": [
    "param_grid_lr = {\n",
    "    \"logisticregression__C\": 10.0 ** np.arange(-4, 4, 0.01),\n",
    "    \"logisticregression__class_weight\": [None, 'balanced']\n",
    "}\n",
    "\n",
    "random_search_lr = RandomizedSearchCV(\n",
    "    lr, \n",
    "    param_distributions=param_grid_lr, \n",
    "    n_jobs=-1,\n",
    "    n_iter=20,\n",
    "    return_train_score=True, \n",
    "    random_state=123,\n",
    "    scoring=scoring_list,\n",
    "    refit=\"f1\"\n",
    ")\n",
    "\n",
    "random_search_lr.fit(X_train, y_train)\n",
    "\n",
    "display(pd.DataFrame(random_search_lr.cv_results_)[\n",
    "    [\n",
    "        \"param_logisticregression__C\",\n",
    "        \"mean_test_accuracy\",\n",
    "        \"mean_test_f1\",\n",
    "        \"mean_test_recall\",\n",
    "        \"mean_test_precision\",\n",
    "        \"rank_test_f1\"\n",
    "    ]\n",
    "].set_index(\"rank_test_f1\").sort_index())\n",
    "\n",
    "print(random_search_lr.best_params_['logisticregression__C'])\n",
    "print(random_search_lr.best_params_['logisticregression__class_weight'])\n"
   ]
  },
  {
   "cell_type": "code",
   "execution_count": null,
   "metadata": {},
   "outputs": [],
   "source": [
    "lr_best = make_pipeline(preprocessor, LogisticRegression(C=random_search_lr.best_params_['logisticregression__C'], class_weight=random_search_lr.best_params_['logisticregression__class_weight']))\n",
    "\n",
    "cross_val_results['LogisticRegression_Best_C'] = pd.DataFrame(cross_validate(lr_best, X_train, y_train, return_train_score=True, scoring=scoring_list, n_jobs=-1)).agg(['mean', 'std']).round(3).T\n",
    "\n",
    "cross_val_results['LogisticRegression_Best_C']"
   ]
  },
  {
   "cell_type": "markdown",
   "metadata": {},
   "source": [
    "<!-- END QUESTION -->\n",
    "\n",
    "<!-- BEGIN QUESTION -->\n",
    "\n",
    "<div class=\"alert alert-info\">\n",
    "\n",
    "## 8. Different models <a name=\"8\"></a>\n",
    "rubric={accuracy,reasoning}\n",
    "\n",
    "**Your tasks:**\n",
    "1. Try out three other models aside from the linear model. \n",
    "2. Summarize your results in terms of overfitting/underfitting and fit and score times. Can you beat the performance of the linear model? \n",
    "    \n",
    "</div>\n",
    "\n",
    "_Points:_ 10"
   ]
  },
  {
   "cell_type": "markdown",
   "metadata": {},
   "source": [
    "_Type your answer here, replacing this text._"
   ]
  },
  {
   "cell_type": "code",
   "execution_count": null,
   "metadata": {
    "tags": []
   },
   "outputs": [],
   "source": [
    "# SVC\n",
    "pipe_svc = make_pipeline(\n",
    "    preprocessor, \n",
    "    SVC(random_state=123)\n",
    ")\n",
    "\n",
    "cross_val_results[\"SVC\"] = pd.DataFrame(cross_validate(pipe_svc, \n",
    "                                                       X_train, \n",
    "                                                       y_train, \n",
    "                                                       return_train_score=True, \n",
    "                                                       scoring=scoring_list)).agg(['mean', 'std']).round(3).T\n",
    "cross_val_results[\"SVC\"]"
   ]
  },
  {
   "cell_type": "code",
   "execution_count": null,
   "metadata": {},
   "outputs": [],
   "source": [
    "# RFC"
   ]
  },
  {
   "cell_type": "code",
   "execution_count": null,
   "metadata": {},
   "outputs": [],
   "source": [
    "# LightGBM\n",
    "pipe_LGBM = make_pipeline(\n",
    "    preprocessor,\n",
    "    LGBMClassifier(random_state=123)\n",
    ")\n",
    "\n",
    "cross_val_results[\"LigtGBM\"] = pd.DataFrame(cross_validate(pipe_LGBM, X_train, y_train,  return_train_score = True, scoring=scoring_list)).agg(['mean', 'std']).round(3).T\n",
    "cross_val_results[\"LigtGBM\"]"
   ]
  },
  {
   "cell_type": "markdown",
   "metadata": {},
   "source": [
    "<!-- END QUESTION -->\n",
    "\n",
    "<!-- BEGIN QUESTION -->\n",
    "\n",
    "<div class=\"alert alert-warning\">\n",
    "\n",
    "## 9. Feature selection (Challenging)\n",
    "rubric={reasoning}\n",
    "\n",
    "**Your tasks:**\n",
    "\n",
    "Make some attempts to select relevant features. You may try `RFECV`, forward selection or L1 regularization for this. Do the results improve with feature selection? Summarize your results. If you see improvements in the results, keep feature selection in your pipeline. If not, you may abandon it in the next exercises unless you think there are other benefits with using less features.\n",
    "    \n",
    "</div>\n",
    "\n",
    "_Points:_ 0.5"
   ]
  },
  {
   "cell_type": "markdown",
   "metadata": {},
   "source": [
    "_Type your answer here, replacing this text._"
   ]
  },
  {
   "cell_type": "code",
   "execution_count": null,
   "metadata": {
    "tags": []
   },
   "outputs": [],
   "source": [
    "..."
   ]
  },
  {
   "cell_type": "markdown",
   "metadata": {},
   "source": [
    "<!-- END QUESTION -->\n",
    "\n",
    "<!-- BEGIN QUESTION -->\n",
    "\n",
    "<div class=\"alert alert-info\">\n",
    "\n",
    "## 10. Hyperparameter optimization\n",
    "rubric={accuracy,reasoning}\n",
    "\n",
    "**Your tasks:**\n",
    "\n",
    "Make some attempts to optimize hyperparameters for the models you've tried and summarize your results. In at least one case you should be optimizing multiple hyperparameters for a single model. You may use `sklearn`'s methods for hyperparameter optimization or fancier Bayesian optimization methods. \n",
    "  - [GridSearchCV](http://scikit-learn.org/stable/modules/generated/sklearn.model_selection.GridSearchCV.html)   \n",
    "  - [RandomizedSearchCV](http://scikit-learn.org/stable/modules/generated/sklearn.model_selection.RandomizedSearchCV.html)\n",
    "  - [scikit-optimize](https://github.com/scikit-optimize/scikit-optimize) \n",
    "    \n",
    "</div>\n",
    "\n",
    "_Points:_ 6"
   ]
  },
  {
   "cell_type": "markdown",
   "metadata": {},
   "source": [
    "_Type your answer here, replacing this text._"
   ]
  },
  {
   "cell_type": "code",
   "execution_count": null,
   "metadata": {
    "tags": []
   },
   "outputs": [],
   "source": [
    "# SVC\n",
    "param_grid_svc = {\n",
    "    \"svc__C\": 10.0 ** np.arange(-2, 3),\n",
    "    \"svc__gamma\": 10.0 ** np.arange(-2, 3),\n",
    "    \"svc__class_weight\": [None, \"balanced\"]\n",
    "}\n",
    "\n",
    "#full scoring_list will not work so chose 'f1' for now\n",
    "#only did 10 iterations to save time while testing code to make sure it works as it is slow to run\n",
    "random_search_svc = RandomizedSearchCV(\n",
    "    pipe_svc, \n",
    "    param_distributions=param_grid_svc, \n",
    "    n_jobs=-1, \n",
    "    n_iter=, \n",
    "    cv=5, \n",
    "    return_train_score=True, \n",
    "    random_state=123,\n",
    "    scoring='f1'\n",
    ")\n",
    "\n",
    "random_search_svc.fit(X_train, y_train)\n",
    "\n",
    "best_random_search_score_svc = random_search_svc.best_score_\n",
    "best_params_svc = random_search_svc.best_params_\n",
    "\n",
    "print(\"Best hyperparameter values: \", best_params_svc)\n",
    "print(\"Best CV f1 score: %0.3f\" % best_random_search_score_svc)"
   ]
  },
  {
   "cell_type": "code",
   "execution_count": null,
   "metadata": {},
   "outputs": [],
   "source": [
    "# RFC\n"
   ]
  },
  {
   "cell_type": "code",
   "execution_count": null,
   "metadata": {},
   "outputs": [],
   "source": [
    "# LightGBM\n",
    "param_grid_lgbm = {\n",
    "    \"lgbmclassifier__num_leaves\": np.arange(2, 100, 2),\n",
    "    \"lgbmclassifier__max_depth\": np.arange(2, 500, 2),\n",
    "    \"lgbmclassifier__n_estimators\": np.arange(2, 500, 2),\n",
    "    \"lgbmclassifier__class_weight\": ['balanced', None]\n",
    "}\n",
    "\n",
    "random_search_lgbm = RandomizedSearchCV(\n",
    "    pipe_LGBM,\n",
    "    param_distributions=param_grid_lgbm,\n",
    "    n_jobs=-1,\n",
    "    n_iter=50,\n",
    "    cv=5,\n",
    "    random_state=123\n",
    ")\n",
    "\n",
    "random_search_lgbm.fit(X_train, y_train)\n",
    "\n",
    "print(f\"The best cross-val test score for LightGBM is {random_search_lgbm.best_score_:.4f}\")\n",
    "print(f\"The best parameters for LightGBM are \\n {random_search_lgbm.best_params_}\")"
   ]
  },
  {
   "cell_type": "markdown",
   "metadata": {},
   "source": [
    "<!-- END QUESTION -->\n",
    "\n",
    "<!-- BEGIN QUESTION -->\n",
    "\n",
    "<div class=\"alert alert-info\">\n",
    "\n",
    "## 11. Interpretation and feature importances <a name=\"1\"></a>\n",
    "rubric={accuracy,reasoning}\n",
    "\n",
    "**Your tasks:**\n",
    "\n",
    "1. Use the methods we saw in class (e.g., `eli5`, `shap`) (or any other methods of your choice) to examine the most important features of one of the non-linear models. \n",
    "2. Summarize your observations. \n",
    "    \n",
    "</div>\n",
    "\n",
    "_Points:_ 8"
   ]
  },
  {
   "cell_type": "markdown",
   "metadata": {},
   "source": [
    "_Type your answer here, replacing this text._"
   ]
  },
  {
   "cell_type": "code",
   "execution_count": null,
   "metadata": {
    "tags": []
   },
   "outputs": [],
   "source": [
    "..."
   ]
  },
  {
   "cell_type": "markdown",
   "metadata": {},
   "source": [
    "<!-- END QUESTION -->\n",
    "\n",
    "<!-- BEGIN QUESTION -->\n",
    "\n",
    "<div class=\"alert alert-info\">\n",
    "\n",
    "## 12. Results on the test set <a name=\"12\"></a>\n",
    "rubric={accuracy,reasoning}\n",
    "\n",
    "**Your tasks:**\n",
    "\n",
    "1. Try your best performing model on the test data and report test scores. \n",
    "2. Do the test scores agree with the validation scores from before? To what extent do you trust your results? Do you think you've had issues with optimization bias? \n",
    "3. Take one or two test predictions and explain them with SHAP force plots.  \n",
    "    \n",
    "</div>\n",
    "\n",
    "_Points:_ 6"
   ]
  },
  {
   "cell_type": "markdown",
   "metadata": {},
   "source": [
    "_Type your answer here, replacing this text._"
   ]
  },
  {
   "cell_type": "code",
   "execution_count": null,
   "metadata": {
    "tags": []
   },
   "outputs": [],
   "source": [
    "..."
   ]
  },
  {
   "cell_type": "markdown",
   "metadata": {},
   "source": [
    "<!-- END QUESTION -->\n",
    "\n",
    "<!-- BEGIN QUESTION -->\n",
    "\n",
    "<div class=\"alert alert-info\">\n",
    "\n",
    "## 13. Summary of results <a name=\"13\"></a>\n",
    "rubric={reasoning}\n",
    "\n",
    "Imagine that you want to present the summary of these results to your boss and co-workers. \n",
    "\n",
    "**Your tasks:**\n",
    "\n",
    "1. Create a table summarizing important results. \n",
    "2. Write concluding remarks.\n",
    "3. Discuss other ideas that you did not try but could potentially improve the performance/interpretability . \n",
    "3. Report your final test score along with the metric you used at the top of this notebook.\n",
    "    \n",
    "</div>\n",
    "\n",
    "_Points:_ 8"
   ]
  },
  {
   "cell_type": "markdown",
   "metadata": {},
   "source": [
    "_Type your answer here, replacing this text._"
   ]
  },
  {
   "cell_type": "code",
   "execution_count": null,
   "metadata": {
    "tags": []
   },
   "outputs": [],
   "source": [
    "..."
   ]
  },
  {
   "cell_type": "markdown",
   "metadata": {},
   "source": [
    "<!-- END QUESTION -->\n",
    "\n",
    "<!-- BEGIN QUESTION -->\n",
    "\n",
    "<div class=\"alert alert-warning\">\n",
    "\n",
    "## 14. Creating a data analysis pipeline (Challenging)\n",
    "rubric={reasoning}\n",
    "\n",
    "**Your tasks:**\n",
    "- In 522 you learned how build a reproducible data analysis pipeline. Convert this notebook into scripts and create a reproducible data analysis pipeline with appropriate documentation. Submit your project folder in addition to this notebook on GitHub and briefly comment on your organization in the text box below.\n",
    "    \n",
    "</div>\n",
    "\n",
    "_Points:_ 2"
   ]
  },
  {
   "cell_type": "markdown",
   "metadata": {},
   "source": [
    "_Type your answer here, replacing this text._"
   ]
  },
  {
   "cell_type": "markdown",
   "metadata": {},
   "source": [
    "<!-- END QUESTION -->\n",
    "\n",
    "<!-- BEGIN QUESTION -->\n",
    "\n",
    "<div class=\"alert alert-warning\">\n",
    "\n",
    "## 15. Your takeaway from the course (Challenging)\n",
    "rubric={reasoning}\n",
    "\n",
    "**Your tasks:**\n",
    "\n",
    "What is your biggest takeaway from this course? \n",
    "    \n",
    "</div>\n",
    "\n",
    "_Points:_ 0.25"
   ]
  },
  {
   "cell_type": "markdown",
   "metadata": {},
   "source": [
    "_Type your answer here, replacing this text._"
   ]
  },
  {
   "cell_type": "markdown",
   "metadata": {},
   "source": [
    "<!-- END QUESTION -->\n",
    "\n",
    "<div class=\"alert alert-danger\" style=\"color:black\">\n",
    "    \n",
    "**Restart, run all and export a PDF before submitting**\n",
    "    \n",
    "Before submitting,\n",
    "don't forget to run all cells in your notebook\n",
    "to make sure there are no errors\n",
    "and so that the TAs can see your plots on Gradescope.\n",
    "You can do this by clicking the ▶▶ button\n",
    "or going to `Kernel -> Restart Kernel and Run All Cells...` in the menu.\n",
    "This is not only important for MDS,\n",
    "but a good habit you should get into before ever committing a notebook to GitHub,\n",
    "so that your collaborators can run it from top to bottom\n",
    "without issues.\n",
    "    \n",
    "After running all the cells,\n",
    "export a PDF of the notebook (preferably the WebPDF export)\n",
    "and upload this PDF together with the ipynb file to Gradescope\n",
    "(you can select two files when uploading to Gradescope)\n",
    "</div>"
   ]
  },
  {
   "cell_type": "markdown",
   "metadata": {
    "tags": [
     "feedback"
    ]
   },
   "source": [
    "---\n",
    "\n",
    "## Help us improve the labs\n",
    "\n",
    "The MDS program is continually looking to improve our courses, including lab questions and content. The following optional questions will not affect your grade in any way nor will they be used for anything other than program improvement:\n",
    "\n",
    "1. Approximately how many hours did you spend working or thinking about this assignment (including lab time)?\n",
    "\n",
    "#Ans:\n",
    "\n",
    "2. Do you have any feedback on the lab you be willing to share? For example, any part or question that you particularly liked or disliked?\n",
    "\n",
    "#Ans:"
   ]
  }
 ],
 "metadata": {
  "kernelspec": {
   "display_name": "dsci573",
   "language": "python",
   "name": "python3"
  },
  "language_info": {
   "codemirror_mode": {
    "name": "ipython",
    "version": 3
   },
   "file_extension": ".py",
   "mimetype": "text/x-python",
   "name": "python",
   "nbconvert_exporter": "python",
   "pygments_lexer": "ipython3",
   "version": "3.10.6"
  },
  "otter": {
   "OK_FORMAT": true,
   "tests": {}
  },
  "vscode": {
   "interpreter": {
    "hash": "4604ec20f422ccbd163ee718411aceffedc14a66d63c387deed833a34dce22ee"
   }
  }
 },
 "nbformat": 4,
 "nbformat_minor": 4
}
